{
 "cells": [
  {
   "cell_type": "markdown",
   "source": [
    "# Print Christmas Tree pattern\n",
    "\n",
    "Using for loops to print a christmas tree pattern."
   ],
   "metadata": {
    "collapsed": false
   },
   "id": "adedec4a6d8410d2"
  },
  {
   "cell_type": "code",
   "execution_count": 9,
   "outputs": [
    {
     "name": "stdout",
     "output_type": "stream",
     "text": [
      "       *       \n",
      "      ***      \n",
      "     *****     \n",
      "    *******    \n",
      "   *********   \n",
      "  ***********  \n",
      " ************* \n"
     ]
    }
   ],
   "source": [
    "def print_tree_pattern(lines):\n",
    "    for y in range(0, lines):\n",
    "        spaces = \"\"\n",
    "        stars = \"\"\n",
    "        for space in range(0, lines - y):\n",
    "            spaces += \" \"\n",
    "        for star in range(0, y * 2 + 1):\n",
    "            stars += \"*\"\n",
    "        print(spaces + stars + spaces)\n",
    "\n",
    "print_tree_pattern(7)"
   ],
   "metadata": {
    "collapsed": false,
    "ExecuteTime": {
     "end_time": "2023-12-07T17:53:12.532786Z",
     "start_time": "2023-12-07T17:53:12.499132Z"
    }
   },
   "id": "initial_id"
  },
  {
   "cell_type": "markdown",
   "source": [
    "# Binary Search Algorithm\n",
    "\n",
    "Using while loop to create a binary search."
   ],
   "metadata": {
    "collapsed": false
   },
   "id": "bf44dfd6764703c7"
  },
  {
   "cell_type": "code",
   "execution_count": 4,
   "outputs": [
    {
     "name": "stdout",
     "output_type": "stream",
     "text": [
      "7\n"
     ]
    }
   ],
   "source": [
    "import math\n",
    "\n",
    "def binary_search(array, search):\n",
    "    low = 0\n",
    "    high = len(array) - 1\n",
    "\n",
    "    while low <= high:\n",
    "        mid = math.floor((low + high) / 2)\n",
    "        if array[mid] < search:\n",
    "            low = mid + 1\n",
    "        elif array[mid] > search:\n",
    "            high = mid - 1\n",
    "        else:\n",
    "            return mid\n",
    "    return -1\n",
    "\n",
    "print(binary_search(numbers, 7))"
   ],
   "metadata": {
    "collapsed": false,
    "ExecuteTime": {
     "end_time": "2023-12-07T17:45:06.904094Z",
     "start_time": "2023-12-07T17:45:06.880301Z"
    }
   },
   "id": "ff5e659d9a7c6a9"
  }
 ],
 "metadata": {
  "kernelspec": {
   "display_name": "Python 3",
   "language": "python",
   "name": "python3"
  },
  "language_info": {
   "codemirror_mode": {
    "name": "ipython",
    "version": 2
   },
   "file_extension": ".py",
   "mimetype": "text/x-python",
   "name": "python",
   "nbconvert_exporter": "python",
   "pygments_lexer": "ipython2",
   "version": "2.7.6"
  }
 },
 "nbformat": 4,
 "nbformat_minor": 5
}
