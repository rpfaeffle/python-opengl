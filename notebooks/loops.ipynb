{
 "cells": [
  {
   "cell_type": "markdown",
   "source": [
    "# Print Christmas Tree pattern\n",
    "\n",
    "Using for loops to print a Christmas tree pattern."
   ],
   "metadata": {
    "collapsed": false
   },
   "id": "adedec4a6d8410d2"
  },
  {
   "cell_type": "code",
   "execution_count": null,
   "outputs": [],
   "source": [
    "def print_tree_pattern(lines: int):\n",
    "    for y in range(0, lines):\n",
    "        spaces: str = \"\"\n",
    "        stars: str = \"\"\n",
    "        for space in range(0, lines - y):\n",
    "            spaces += \" \"\n",
    "        for star in range(0, y * 2 + 1):\n",
    "            stars += \"*\"\n",
    "        print(spaces + stars + spaces)\n",
    "\n",
    "print_tree_pattern(7)"
   ],
   "metadata": {
    "collapsed": false,
    "ExecuteTime": {
     "end_time": "2023-12-07T18:57:59.127801Z",
     "start_time": "2023-12-07T18:57:59.126985Z"
    }
   },
   "id": "initial_id"
  },
  {
   "cell_type": "markdown",
   "source": [
    "# Binary Search Algorithm\n",
    "\n",
    "Using while loop to create a binary search."
   ],
   "metadata": {
    "collapsed": false
   },
   "id": "bf44dfd6764703c7"
  },
  {
   "cell_type": "code",
   "execution_count": 1,
   "outputs": [
    {
     "name": "stdout",
     "output_type": "stream",
     "text": [
      "7\n"
     ]
    }
   ],
   "source": [
    "import math\n",
    "from typing import List\n",
    "\n",
    "def binary_search(array: List[int], search: int):\n",
    "    low: int = 0\n",
    "    high: int = len(array) - 1\n",
    "\n",
    "    while low <= high:\n",
    "        mid = math.floor((low + high) / 2)\n",
    "        if array[mid] < search:\n",
    "            low = mid + 1\n",
    "        elif array[mid] > search:\n",
    "            high = mid - 1\n",
    "        else:\n",
    "            return mid\n",
    "    return -1\n",
    "\n",
    "numbers: List[int] = [0, 1, 2, 3, 4, 5, 6, 7, 8, 9, 10]\n",
    "print(binary_search(numbers, 7))"
   ],
   "metadata": {
    "collapsed": false,
    "ExecuteTime": {
     "end_time": "2023-12-08T13:37:02.103229Z",
     "start_time": "2023-12-08T13:37:02.096015Z"
    }
   },
   "id": "ff5e659d9a7c6a9"
  }
 ],
 "metadata": {
  "kernelspec": {
   "display_name": "Python 3",
   "language": "python",
   "name": "python3"
  },
  "language_info": {
   "codemirror_mode": {
    "name": "ipython",
    "version": 2
   },
   "file_extension": ".py",
   "mimetype": "text/x-python",
   "name": "python",
   "nbconvert_exporter": "python",
   "pygments_lexer": "ipython2",
   "version": "2.7.6"
  }
 },
 "nbformat": 4,
 "nbformat_minor": 5
}
