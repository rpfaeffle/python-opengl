{
 "cells": [
  {
   "cell_type": "code",
   "execution_count": 6,
   "id": "initial_id",
   "metadata": {
    "collapsed": true,
    "ExecuteTime": {
     "end_time": "2023-12-09T18:37:14.679911Z",
     "start_time": "2023-12-09T18:37:14.675828Z"
    }
   },
   "outputs": [
    {
     "name": "stdout",
     "output_type": "stream",
     "text": [
      "2\n"
     ]
    }
   ],
   "source": [
    "def majority_element(nums: list[int]) -> int:\n",
    "    result = 0\n",
    "    count = 0\n",
    "    \n",
    "    for el in nums:\n",
    "        if count == 0:\n",
    "            result = el\n",
    "        \n",
    "        if el == result:\n",
    "            count += 1\n",
    "        else:\n",
    "            count -= 1\n",
    "    return result\n",
    "\n",
    "nums = [3, 2, 3]\n",
    "k = majority_element(nums)\n",
    "assert k == 3\n",
    "nums = [2, 2, 1, 1, 1, 2, 2]\n",
    "k = majority_element(nums)\n",
    "assert k == 2"
   ]
  },
  {
   "cell_type": "markdown",
   "source": [
    "[**Boyer-Moore's majority voting algorithm**](https://en.wikipedia.org/wiki/Boyer–Moore_majority_vote_algorithm)"
   ],
   "metadata": {
    "collapsed": false
   },
   "id": "476195dd3b2de3a8"
  }
 ],
 "metadata": {
  "kernelspec": {
   "display_name": "Python 3",
   "language": "python",
   "name": "python3"
  },
  "language_info": {
   "codemirror_mode": {
    "name": "ipython",
    "version": 2
   },
   "file_extension": ".py",
   "mimetype": "text/x-python",
   "name": "python",
   "nbconvert_exporter": "python",
   "pygments_lexer": "ipython2",
   "version": "2.7.6"
  }
 },
 "nbformat": 4,
 "nbformat_minor": 5
}
